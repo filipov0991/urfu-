{
 "cells": [
  {
   "cell_type": "code",
   "execution_count": 6,
   "id": "0b834b9e",
   "metadata": {},
   "outputs": [],
   "source": [
    "import json\n",
    "\n",
    "def create_purchases_dict(filename):\n",
    "    purchases = {}\n",
    "    \n",
    "    with open(filename, 'r', encoding='utf-8') as file:\n",
    "        for line in file:\n",
    "            # Пропускаем пустые строки\n",
    "            if not line.strip():\n",
    "                continue\n",
    "                \n",
    "            try:\n",
    "                # Преобразуем JSON строку в словарь\n",
    "                data = json.loads(line.strip())\n",
    "                \n",
    "                # Добавляем в результирующий словарь\n",
    "                user_id = data.get('user_id')\n",
    "                category = data.get('category')\n",
    "                \n",
    "                if user_id and category:\n",
    "                    purchases[user_id] = category\n",
    "                    \n",
    "            except json.JSONDecodeError:\n",
    "                print(f\"Ошибка декодирования JSON в строке: {line}\")\n",
    "                continue\n",
    "    \n",
    "    return purchases\n"
   ]
  }
 ],
 "metadata": {
  "kernelspec": {
   "display_name": "Python 3",
   "language": "python",
   "name": "python3"
  },
  "language_info": {
   "codemirror_mode": {
    "name": "ipython",
    "version": 3
   },
   "file_extension": ".py",
   "mimetype": "text/x-python",
   "name": "python",
   "nbconvert_exporter": "python",
   "pygments_lexer": "ipython3",
   "version": "3.10.11"
  }
 },
 "nbformat": 4,
 "nbformat_minor": 5
}
