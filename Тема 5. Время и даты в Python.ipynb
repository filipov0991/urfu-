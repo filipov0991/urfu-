{
 "cells": [
  {
   "cell_type": "code",
   "execution_count": 1,
   "id": "7f7f5ae3",
   "metadata": {},
   "outputs": [
    {
     "name": "stdout",
     "output_type": "stream",
     "text": [
      "The Moscow Times:\n",
      "  Исходная строка: Wednesday, October 2, 2002\n",
      "  Формат: %A, %B %d, %Y\n",
      "  Результат: 2002-10-02 00:00:00\n",
      "  Проверка: Wednesday, October 02, 2002\n",
      "--------------------------------------------------\n",
      "The Guardian:\n",
      "  Исходная строка: Friday, 11.10.13\n",
      "  Формат: %A, %d.%m.%y\n",
      "  Результат: 2013-10-11 00:00:00\n",
      "  Проверка: Friday, 11.10.13\n",
      "--------------------------------------------------\n",
      "Daily News:\n",
      "  Исходная строка: Thursday, 18 August 1977\n",
      "  Формат: %A, %d %B %Y\n",
      "  Результат: 1977-08-18 00:00:00\n",
      "  Проверка: Thursday, 18 August 1977\n",
      "--------------------------------------------------\n"
     ]
    }
   ],
   "source": [
    "from datetime import datetime\n",
    "\n",
    "def parse_with_validation():\n",
    "    test_cases = [\n",
    "        ('The Moscow Times', 'Wednesday, October 2, 2002', '%A, %B %d, %Y'),\n",
    "        ('The Guardian', 'Friday, 11.10.13', '%A, %d.%m.%y'),\n",
    "        ('Daily News', 'Thursday, 18 August 1977', '%A, %d %B %Y')\n",
    "    ]\n",
    "    \n",
    "    for name, date_str, fmt in test_cases:\n",
    "        dt = datetime.strptime(date_str, fmt)\n",
    "        print(f\"{name}:\")\n",
    "        print(f\"  Исходная строка: {date_str}\")\n",
    "        print(f\"  Формат: {fmt}\")\n",
    "        print(f\"  Результат: {dt}\")\n",
    "        print(f\"  Проверка: {dt.strftime(fmt)}\")\n",
    "        print(\"-\" * 50)\n",
    "\n",
    "parse_with_validation()"
   ]
  }
 ],
 "metadata": {
  "kernelspec": {
   "display_name": "Python 3",
   "language": "python",
   "name": "python3"
  },
  "language_info": {
   "codemirror_mode": {
    "name": "ipython",
    "version": 3
   },
   "file_extension": ".py",
   "mimetype": "text/x-python",
   "name": "python",
   "nbconvert_exporter": "python",
   "pygments_lexer": "ipython3",
   "version": "3.10.11"
  }
 },
 "nbformat": 4,
 "nbformat_minor": 5
}
