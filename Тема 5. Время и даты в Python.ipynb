{
 "cells": [
  {
   "cell_type": "code",
   "execution_count": null,
   "id": "7f7f5ae3",
   "metadata": {},
   "outputs": [],
   "source": [
    "from datetime import datetime\n",
    "\n",
    "def parse_with_validation():\n",
    "    test_cases = [\n",
    "        ('The Moscow Times', 'Wednesday, October 2, 2002', '%A, %B %d, %Y'),\n",
    "        ('The Guardian', 'Friday, 11.10.13', '%A, %d.%m.%y'),\n",
    "        ('Daily News', 'Thursday, 18 August 1977', '%A, %d %B %Y')\n",
    "    ]\n",
    "    \n",
    "    for name, date_str, fmt in test_cases:\n",
    "        dt = datetime.strptime(date_str, fmt)\n",
    "        print(f\"{name}:\")\n",
    "        print(f\"  Исходная строка: {date_str}\")\n",
    "        print(f\"  Формат: {fmt}\")\n",
    "        print(f\"  Результат: {dt}\")\n",
    "        print(f\"  Проверка: {dt.strftime(fmt)}\")\n",
    "        print(\"-\" * 50)\n",
    "\n",
    "parse_with_validation()"
   ]
  }
 ],
 "metadata": {
  "language_info": {
   "name": "python"
  }
 },
 "nbformat": 4,
 "nbformat_minor": 5
}
